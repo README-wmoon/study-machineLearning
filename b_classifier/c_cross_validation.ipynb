{
 "cells": [
  {
   "cell_type": "markdown",
   "id": "ac74869c-7ed1-401c-94e6-f0ac931d3c0d",
   "metadata": {},
   "source": [
    "### 교차 검증 (Cross Validation)\n",
    "- 기존 방식에서는 데이터 세트에서 학습 데이터 세트와 테스트 데이터 세트를 분리한 뒤 모델 검증을 진행한다.\n",
    "- 교차 검증 시, 학습 데이터를 다시 분할하여 학습 데이터와 모델 성능을 1차 평가하는 검증 데이터로 나눈다.\n",
    "\n",
    "<img src=\"./images/cross_validation01.png\" width=\"500px\">\n",
    "\n",
    "#### 교차 검증의 장단점\n",
    "- 👍특정 데이터 세트에 대한 과적합 방지\n",
    "- 👍데이터 세트 규모가 적을 시 과소적합 방지\n",
    "- 👎모델 훈련, 모델 평가에 소요되는 시간 증가\n",
    "- 즉, 과적합을 피하고 하이퍼 파라미터를 튜닝함으로써 모델을 일반화하고 신뢰성을 증가시키기 위한 목적이다."
   ]
  },
  {
   "cell_type": "markdown",
   "id": "9f730b87-f310-4d48-91c3-c6a922309e41",
   "metadata": {},
   "source": [
    "#### 교차 검증의 종류\n",
    "K-Fold\n",
    "- k개의 데이터 폴드 세트를 만든 뒤 k번만큼 학습과 검증 평가를 반복해서 수행하는 방식.\n",
    "- 학습 데이터와 검증 데이터를 정확히 자르기 때문에 타겟 데이터의 비중이 한 곳으로 치충될 수 있다.\n",
    "- 예를 들어, 0, 1, 2 중에서 0, 1, 두 가지만 잘라서 검증하게 되면 다른 하나의 타겟 데이터를 예측할 수 없게 된다.\n",
    "- Stratified K-Fold로 해결한다.\n",
    "\n",
    "Stratified K-Fold\n",
    "- K-Fold와 마찬가지로 k번 수행하지만, 학습 데이터 세트와 검증 데이터 세트가 가지는 타겟 분포도가 유사하도록 검증한다.\n",
    "- 타켓 데이터의 비중을 항상 똑같게 자르기 때문에 데이터가 한 곳으로 치중되는 것을 방지한다.\n",
    "\n",
    "<img src=\"./images/cross_validation02.png\" width=\"600px\">\n",
    "\n",
    "GridSearchCV\n",
    "- 교차 검증과 최족의 하이퍼 파라미터 튜닝을 한 번에 할 수 있는 객체이다\n",
    "- max_depth와 min_sample_split에 1차원 정수형 list를 전달하면, 2차원으로 결합하여 격자(Grid)를 만들고, 이 중 최적의 점을 찾아낸다.\n",
    "- 딥러닝에서는 학습 속도가 머신러닝에 비해 느리고, 레이어(층)가 깊어질 수록 조정해주어야 할 하이퍼 파라미터 값이 많아지기 때문에, RandomSearchCV에서 대략적인 범위를 찾은 다음, GridSearchCV로 디테일을 조정하는 방식을 사용한다.\n",
    "\n",
    "<img src=\"./images/grid_search_cv.png\" width=\"500px\">"
   ]
  },
  {
   "cell_type": "code",
   "execution_count": 4,
   "id": "69a14750-4f33-40a4-8840-5fac38c4dee1",
   "metadata": {},
   "outputs": [
    {
     "data": {
      "text/plain": [
       "target\n",
       "0         50\n",
       "1         50\n",
       "2         50\n",
       "Name: count, dtype: int64"
      ]
     },
     "execution_count": 4,
     "metadata": {},
     "output_type": "execute_result"
    }
   ],
   "source": [
    "from sklearn.datasets import load_iris\n",
    "import numpy as np\n",
    "import pandas as pd\n",
    "\n",
    "iris = load_iris()\n",
    "features = iris.data\n",
    "targets = iris.target\n",
    "\n",
    "target_df = pd.DataFrame(targets, columns=['target'])\n",
    "target_df.value_counts()"
   ]
  },
  {
   "cell_type": "code",
   "execution_count": 5,
   "id": "78a89bd2-ee66-4ba9-bd29-a014d376d857",
   "metadata": {},
   "outputs": [],
   "source": [
    "from sklearn.tree import DecisionTreeClassifier\n",
    "from sklearn.metrics import accuracy_score\n",
    "from sklearn.model_selection import KFold\n",
    "\n",
    "dtc = DecisionTreeClassifier(random_state=124, min_samples_leaf=6)\n",
    "kfold = KFold(n_splits=5)"
   ]
  },
  {
   "cell_type": "code",
   "execution_count": 6,
   "id": "fe47a564-1c11-439b-a892-fafc2e1db9d0",
   "metadata": {},
   "outputs": [
    {
     "data": {
      "text/plain": [
       "(150, 4)"
      ]
     },
     "execution_count": 6,
     "metadata": {},
     "output_type": "execute_result"
    }
   ],
   "source": [
    "features.shape"
   ]
  },
  {
   "cell_type": "code",
   "execution_count": 13,
   "id": "066c169d-22cf-4ca2-907a-a5dd5fb5d5e9",
   "metadata": {},
   "outputs": [
    {
     "name": "stdout",
     "output_type": "stream",
     "text": [
      "1 회차\n",
      "학습 타겟 데이터 분포: \n",
      "1    50\n",
      "2    50\n",
      "0    20\n",
      "Name: count, dtype: int64\n",
      "검증 타겟 데이터 분포: \n",
      "0    30\n",
      "Name: count, dtype: int64\n",
      "정확도 1.0\n",
      "2 회차\n",
      "학습 타겟 데이터 분포: \n",
      "2    50\n",
      "1    40\n",
      "0    30\n",
      "Name: count, dtype: int64\n",
      "검증 타겟 데이터 분포: \n",
      "0    20\n",
      "1    10\n",
      "Name: count, dtype: int64\n",
      "정확도 1.0\n",
      "3 회차\n",
      "학습 타겟 데이터 분포: \n",
      "0    50\n",
      "2    50\n",
      "1    20\n",
      "Name: count, dtype: int64\n",
      "검증 타겟 데이터 분포: \n",
      "1    30\n",
      "Name: count, dtype: int64\n",
      "정확도 0.8333\n",
      "4 회차\n",
      "학습 타겟 데이터 분포: \n",
      "0    50\n",
      "1    40\n",
      "2    30\n",
      "Name: count, dtype: int64\n",
      "검증 타겟 데이터 분포: \n",
      "2    20\n",
      "1    10\n",
      "Name: count, dtype: int64\n",
      "정확도 0.9333\n",
      "5 회차\n",
      "학습 타겟 데이터 분포: \n",
      "0    50\n",
      "1    50\n",
      "2    20\n",
      "Name: count, dtype: int64\n",
      "검증 타겟 데이터 분포: \n",
      "2    30\n",
      "Name: count, dtype: int64\n",
      "정확도 0.8333\n"
     ]
    }
   ],
   "source": [
    "count = 0\n",
    "\n",
    "for train_index, test_index in kfold.split(features):\n",
    "    # 분리\n",
    "    X_train, X_test = features[train_index], features[test_index]\n",
    "    y_train, y_test = targets[train_index], targets[test_index]\n",
    "\n",
    "    # 학습\n",
    "    dtc.fit(X_train, y_train)\n",
    "    prediction =  dtc.predict(X_test)\n",
    "\n",
    "\n",
    "    # 평가\n",
    "    accuracy = np.round(accuracy_score(y_test, prediction),4)\n",
    "\n",
    "    # 검증\n",
    "    train_targets = pd.DataFrame(y_train)\n",
    "    test_targets = pd.DataFrame(y_test)\n",
    "\n",
    "    count += 1\n",
    "    \n",
    "    print(f'{count} 회차')\n",
    "    print(f'학습 타겟 데이터 분포: \\n{train_targets.value_counts()}')\n",
    "    print(f'검증 타겟 데이터 분포: \\n{test_targets.value_counts()}')\n",
    "    print(f'정확도 {accuracy}')"
   ]
  },
  {
   "cell_type": "code",
   "execution_count": 14,
   "id": "8798aa01-613b-42c2-941c-84589d67f579",
   "metadata": {},
   "outputs": [],
   "source": [
    "from sklearn.model_selection import StratifiedKFold\n",
    "\n",
    "s_fold = StratifiedKFold(n_splits=5)"
   ]
  },
  {
   "cell_type": "code",
   "execution_count": 18,
   "id": "451b79ed-0702-45e7-bfa6-66354cdb0f5e",
   "metadata": {},
   "outputs": [
    {
     "name": "stdout",
     "output_type": "stream",
     "text": [
      "1 회차\n",
      "학습 타겟 데이터 분포: \n",
      "0    40\n",
      "1    40\n",
      "2    40\n",
      "Name: count, dtype: int64\n",
      "검증 타겟 데이터 분포: \n",
      "0    10\n",
      "1    10\n",
      "2    10\n",
      "Name: count, dtype: int64\n",
      "정확도 0.9667\n",
      "2 회차\n",
      "학습 타겟 데이터 분포: \n",
      "0    40\n",
      "1    40\n",
      "2    40\n",
      "Name: count, dtype: int64\n",
      "검증 타겟 데이터 분포: \n",
      "0    10\n",
      "1    10\n",
      "2    10\n",
      "Name: count, dtype: int64\n",
      "정확도 0.9667\n",
      "3 회차\n",
      "학습 타겟 데이터 분포: \n",
      "0    40\n",
      "1    40\n",
      "2    40\n",
      "Name: count, dtype: int64\n",
      "검증 타겟 데이터 분포: \n",
      "0    10\n",
      "1    10\n",
      "2    10\n",
      "Name: count, dtype: int64\n",
      "정확도 0.9\n",
      "4 회차\n",
      "학습 타겟 데이터 분포: \n",
      "0    40\n",
      "1    40\n",
      "2    40\n",
      "Name: count, dtype: int64\n",
      "검증 타겟 데이터 분포: \n",
      "0    10\n",
      "1    10\n",
      "2    10\n",
      "Name: count, dtype: int64\n",
      "정확도 0.8667\n",
      "5 회차\n",
      "학습 타겟 데이터 분포: \n",
      "0    40\n",
      "1    40\n",
      "2    40\n",
      "Name: count, dtype: int64\n",
      "검증 타겟 데이터 분포: \n",
      "0    10\n",
      "1    10\n",
      "2    10\n",
      "Name: count, dtype: int64\n",
      "정확도 1.0\n",
      "평균 정확도: 0.94002\n"
     ]
    }
   ],
   "source": [
    "count = 0\n",
    "accuracy_list = []\n",
    "\n",
    "for train_index, test_index in s_fold.split(features, targets):\n",
    "    # 분리\n",
    "    X_train, X_test = features[train_index], features[test_index]\n",
    "    y_train, y_test = targets[train_index], targets[test_index]\n",
    "\n",
    "    # 학습\n",
    "    dtc.fit(X_train, y_train)\n",
    "    prediction =  dtc.predict(X_test)\n",
    "\n",
    "\n",
    "    # 평가\n",
    "    accuracy = np.round(accuracy_score(y_test, prediction),4)\n",
    "    accuracy_list.append(accuracy)\n",
    "\n",
    "    # 검증\n",
    "    train_targets = pd.DataFrame(y_train)\n",
    "    test_targets = pd.DataFrame(y_test)\n",
    "\n",
    "    count += 1\n",
    "    \n",
    "    print(f'{count} 회차')\n",
    "    print(f'학습 타겟 데이터 분포: \\n{train_targets.value_counts()}')\n",
    "    print(f'검증 타겟 데이터 분포: \\n{test_targets.value_counts()}')\n",
    "    print(f'정확도 {accuracy}')\n",
    "\n",
    "print(f'평균 정확도: {np.mean(accuracy_list)}')"
   ]
  },
  {
   "cell_type": "markdown",
   "id": "2e636177-d7a2-48a3-8e5c-93c9c50f56a6",
   "metadata": {},
   "source": [
    "#### 편하게 수행할 수 있는 교차 검증\n",
    "**cross_val_score(estimator, x, y, cv, scoring)**\n",
    "- estimator: classifier 종류 모델이면 내부적으로 startified K-Fold로 진행된다.\n",
    "- x: features\n",
    "- y: targets\n",
    "- cv: 폴드 세트 개수\n",
    "- scoring: 평가 함수, 정확도(accuracy)외에 다른 것은 다른 장에서 배운다."
   ]
  },
  {
   "cell_type": "code",
   "execution_count": 22,
   "id": "517e61ba-2852-42e1-bcbc-9e66a8fc88cf",
   "metadata": {},
   "outputs": [
    {
     "name": "stdout",
     "output_type": "stream",
     "text": [
      "0.94\n"
     ]
    }
   ],
   "source": [
    "from sklearn.tree import DecisionTreeClassifier\n",
    "from sklearn.model_selection import cross_val_score\n",
    "from sklearn.datasets import load_iris\n",
    "import numpy as np\n",
    "\n",
    "iris = load_iris()\n",
    "dtc = DecisionTreeClassifier(random_state=124, min_samples_leaf=6)\n",
    "\n",
    "featrues = iris.data\n",
    "targets = iris.target\n",
    "\n",
    "score = cross_val_score(dtc, features, targets, cv=5, scoring='accuracy')\n",
    "print(np.round(np.mean(score), 4))"
   ]
  },
  {
   "cell_type": "markdown",
   "id": "9acef227-6ee9-4ce1-9325-ec0e5cb01781",
   "metadata": {},
   "source": [
    "#### GridSearchCV\n",
    "**GridSearchCV(estimator, param_grid, cv, refit, return_train_score)**\n",
    "- estimator: 학습할 모델 객체 작성\n",
    "- param_grid: dict형태로 전달해야 하며, 주요 key값은 max_depth, min_samples_split이다.\n",
    "- cv: 폴드 세트 개수\n",
    "- refit: 전달한 모델 객체에 최적의 하이퍼 파라미터로 적용하고자 할 때\n",
    "- return_train_score: 교차 검증 점수를 가져올 지에 대해 True 또는 False를 전달한다."
   ]
  },
  {
   "cell_type": "code",
   "execution_count": 26,
   "id": "c37f8f49-3f6e-4415-a7c0-55819c801718",
   "metadata": {},
   "outputs": [],
   "source": [
    "from sklearn.datasets import load_iris\n",
    "from sklearn.tree import DecisionTreeClassifier\n",
    "from sklearn.model_selection import GridSearchCV, train_test_split\n",
    "from sklearn.metrics import accuracy_score\n",
    "\n",
    "iris = load_iris()\n",
    "featrues = iris.data\n",
    "targets = iris.target\n",
    "\n",
    "X_train, X_test, y_train, y_test = \\\n",
    "train_test_split(featrues, targets, test_size=0.2, random_state=124)\n",
    "\n",
    "dtc = DecisionTreeClassifier()\n",
    "parameters = {'max_depth': [2, 3, 4], 'min_samples_split': [6, 7]}"
   ]
  },
  {
   "cell_type": "code",
   "execution_count": 27,
   "id": "2be94a6e-7c83-44b1-ba8d-cf902e0e6266",
   "metadata": {},
   "outputs": [],
   "source": [
    "g_dtc = GridSearchCV(dtc, \n",
    "                     param_grid=parameters, \n",
    "                     cv=5, \n",
    "                     refit=True, \n",
    "                     return_train_score=True, \n",
    "                     # 코어 개수: -1를 쓰면 최대 개수를 쓰는 것이다.\n",
    "                     n_jobs=-1)"
   ]
  },
  {
   "cell_type": "code",
   "execution_count": 28,
   "id": "a60a5960-4df9-42c0-a046-93057b84fa4a",
   "metadata": {},
   "outputs": [
    {
     "data": {
      "text/html": [
       "<style>#sk-container-id-1 {color: black;background-color: white;}#sk-container-id-1 pre{padding: 0;}#sk-container-id-1 div.sk-toggleable {background-color: white;}#sk-container-id-1 label.sk-toggleable__label {cursor: pointer;display: block;width: 100%;margin-bottom: 0;padding: 0.3em;box-sizing: border-box;text-align: center;}#sk-container-id-1 label.sk-toggleable__label-arrow:before {content: \"▸\";float: left;margin-right: 0.25em;color: #696969;}#sk-container-id-1 label.sk-toggleable__label-arrow:hover:before {color: black;}#sk-container-id-1 div.sk-estimator:hover label.sk-toggleable__label-arrow:before {color: black;}#sk-container-id-1 div.sk-toggleable__content {max-height: 0;max-width: 0;overflow: hidden;text-align: left;background-color: #f0f8ff;}#sk-container-id-1 div.sk-toggleable__content pre {margin: 0.2em;color: black;border-radius: 0.25em;background-color: #f0f8ff;}#sk-container-id-1 input.sk-toggleable__control:checked~div.sk-toggleable__content {max-height: 200px;max-width: 100%;overflow: auto;}#sk-container-id-1 input.sk-toggleable__control:checked~label.sk-toggleable__label-arrow:before {content: \"▾\";}#sk-container-id-1 div.sk-estimator input.sk-toggleable__control:checked~label.sk-toggleable__label {background-color: #d4ebff;}#sk-container-id-1 div.sk-label input.sk-toggleable__control:checked~label.sk-toggleable__label {background-color: #d4ebff;}#sk-container-id-1 input.sk-hidden--visually {border: 0;clip: rect(1px 1px 1px 1px);clip: rect(1px, 1px, 1px, 1px);height: 1px;margin: -1px;overflow: hidden;padding: 0;position: absolute;width: 1px;}#sk-container-id-1 div.sk-estimator {font-family: monospace;background-color: #f0f8ff;border: 1px dotted black;border-radius: 0.25em;box-sizing: border-box;margin-bottom: 0.5em;}#sk-container-id-1 div.sk-estimator:hover {background-color: #d4ebff;}#sk-container-id-1 div.sk-parallel-item::after {content: \"\";width: 100%;border-bottom: 1px solid gray;flex-grow: 1;}#sk-container-id-1 div.sk-label:hover label.sk-toggleable__label {background-color: #d4ebff;}#sk-container-id-1 div.sk-serial::before {content: \"\";position: absolute;border-left: 1px solid gray;box-sizing: border-box;top: 0;bottom: 0;left: 50%;z-index: 0;}#sk-container-id-1 div.sk-serial {display: flex;flex-direction: column;align-items: center;background-color: white;padding-right: 0.2em;padding-left: 0.2em;position: relative;}#sk-container-id-1 div.sk-item {position: relative;z-index: 1;}#sk-container-id-1 div.sk-parallel {display: flex;align-items: stretch;justify-content: center;background-color: white;position: relative;}#sk-container-id-1 div.sk-item::before, #sk-container-id-1 div.sk-parallel-item::before {content: \"\";position: absolute;border-left: 1px solid gray;box-sizing: border-box;top: 0;bottom: 0;left: 50%;z-index: -1;}#sk-container-id-1 div.sk-parallel-item {display: flex;flex-direction: column;z-index: 1;position: relative;background-color: white;}#sk-container-id-1 div.sk-parallel-item:first-child::after {align-self: flex-end;width: 50%;}#sk-container-id-1 div.sk-parallel-item:last-child::after {align-self: flex-start;width: 50%;}#sk-container-id-1 div.sk-parallel-item:only-child::after {width: 0;}#sk-container-id-1 div.sk-dashed-wrapped {border: 1px dashed gray;margin: 0 0.4em 0.5em 0.4em;box-sizing: border-box;padding-bottom: 0.4em;background-color: white;}#sk-container-id-1 div.sk-label label {font-family: monospace;font-weight: bold;display: inline-block;line-height: 1.2em;}#sk-container-id-1 div.sk-label-container {text-align: center;}#sk-container-id-1 div.sk-container {/* jupyter's `normalize.less` sets `[hidden] { display: none; }` but bootstrap.min.css set `[hidden] { display: none !important; }` so we also need the `!important` here to be able to override the default hidden behavior on the sphinx rendered scikit-learn.org. See: https://github.com/scikit-learn/scikit-learn/issues/21755 */display: inline-block !important;position: relative;}#sk-container-id-1 div.sk-text-repr-fallback {display: none;}</style><div id=\"sk-container-id-1\" class=\"sk-top-container\"><div class=\"sk-text-repr-fallback\"><pre>GridSearchCV(cv=5, estimator=DecisionTreeClassifier(), n_jobs=-1,\n",
       "             param_grid={&#x27;max_depth&#x27;: [2, 3, 4], &#x27;min_samples_split&#x27;: [6, 7]},\n",
       "             return_train_score=True)</pre><b>In a Jupyter environment, please rerun this cell to show the HTML representation or trust the notebook. <br />On GitHub, the HTML representation is unable to render, please try loading this page with nbviewer.org.</b></div><div class=\"sk-container\" hidden><div class=\"sk-item sk-dashed-wrapped\"><div class=\"sk-label-container\"><div class=\"sk-label sk-toggleable\"><input class=\"sk-toggleable__control sk-hidden--visually\" id=\"sk-estimator-id-1\" type=\"checkbox\" ><label for=\"sk-estimator-id-1\" class=\"sk-toggleable__label sk-toggleable__label-arrow\">GridSearchCV</label><div class=\"sk-toggleable__content\"><pre>GridSearchCV(cv=5, estimator=DecisionTreeClassifier(), n_jobs=-1,\n",
       "             param_grid={&#x27;max_depth&#x27;: [2, 3, 4], &#x27;min_samples_split&#x27;: [6, 7]},\n",
       "             return_train_score=True)</pre></div></div></div><div class=\"sk-parallel\"><div class=\"sk-parallel-item\"><div class=\"sk-item\"><div class=\"sk-label-container\"><div class=\"sk-label sk-toggleable\"><input class=\"sk-toggleable__control sk-hidden--visually\" id=\"sk-estimator-id-2\" type=\"checkbox\" ><label for=\"sk-estimator-id-2\" class=\"sk-toggleable__label sk-toggleable__label-arrow\">estimator: DecisionTreeClassifier</label><div class=\"sk-toggleable__content\"><pre>DecisionTreeClassifier()</pre></div></div></div><div class=\"sk-serial\"><div class=\"sk-item\"><div class=\"sk-estimator sk-toggleable\"><input class=\"sk-toggleable__control sk-hidden--visually\" id=\"sk-estimator-id-3\" type=\"checkbox\" ><label for=\"sk-estimator-id-3\" class=\"sk-toggleable__label sk-toggleable__label-arrow\">DecisionTreeClassifier</label><div class=\"sk-toggleable__content\"><pre>DecisionTreeClassifier()</pre></div></div></div></div></div></div></div></div></div></div>"
      ],
      "text/plain": [
       "GridSearchCV(cv=5, estimator=DecisionTreeClassifier(), n_jobs=-1,\n",
       "             param_grid={'max_depth': [2, 3, 4], 'min_samples_split': [6, 7]},\n",
       "             return_train_score=True)"
      ]
     },
     "execution_count": 28,
     "metadata": {},
     "output_type": "execute_result"
    }
   ],
   "source": [
    "g_dtc.fit(X_train, y_train)"
   ]
  },
  {
   "cell_type": "code",
   "execution_count": 29,
   "id": "ec98e052-40ad-40fc-9576-b57f5ebc98ab",
   "metadata": {},
   "outputs": [
    {
     "data": {
      "text/plain": [
       "{'mean_fit_time': array([0.00177803, 0.00054736, 0.00035534, 0.0004528 , 0.00041542,\n",
       "        0.00047965]),\n",
       " 'std_fit_time': array([2.39443916e-03, 4.87325243e-05, 7.76676251e-05, 3.81897907e-04,\n",
       "        2.27084654e-05, 1.15162087e-04]),\n",
       " 'mean_score_time': array([0.00177002, 0.00027056, 0.00019388, 0.00017562, 0.00022984,\n",
       "        0.0001977 ]),\n",
       " 'std_score_time': array([1.99595974e-03, 1.67426211e-05, 2.98293563e-05, 5.07894476e-05,\n",
       "        4.40133871e-05, 1.00717671e-05]),\n",
       " 'param_max_depth': masked_array(data=[2, 2, 3, 3, 4, 4],\n",
       "              mask=[False, False, False, False, False, False],\n",
       "        fill_value='?',\n",
       "             dtype=object),\n",
       " 'param_min_samples_split': masked_array(data=[6, 7, 6, 7, 6, 7],\n",
       "              mask=[False, False, False, False, False, False],\n",
       "        fill_value='?',\n",
       "             dtype=object),\n",
       " 'params': [{'max_depth': 2, 'min_samples_split': 6},\n",
       "  {'max_depth': 2, 'min_samples_split': 7},\n",
       "  {'max_depth': 3, 'min_samples_split': 6},\n",
       "  {'max_depth': 3, 'min_samples_split': 7},\n",
       "  {'max_depth': 4, 'min_samples_split': 6},\n",
       "  {'max_depth': 4, 'min_samples_split': 7}],\n",
       " 'split0_test_score': array([1., 1., 1., 1., 1., 1.]),\n",
       " 'split1_test_score': array([0.95833333, 0.95833333, 1.        , 1.        , 1.        ,\n",
       "        1.        ]),\n",
       " 'split2_test_score': array([0.95833333, 0.95833333, 0.95833333, 0.95833333, 0.95833333,\n",
       "        0.95833333]),\n",
       " 'split3_test_score': array([1., 1., 1., 1., 1., 1.]),\n",
       " 'split4_test_score': array([0.95833333, 0.95833333, 1.        , 1.        , 1.        ,\n",
       "        1.        ]),\n",
       " 'mean_test_score': array([0.975     , 0.975     , 0.99166667, 0.99166667, 0.99166667,\n",
       "        0.99166667]),\n",
       " 'std_test_score': array([0.02041241, 0.02041241, 0.01666667, 0.01666667, 0.01666667,\n",
       "        0.01666667]),\n",
       " 'rank_test_score': array([5, 5, 1, 1, 1, 1], dtype=int32),\n",
       " 'split0_train_score': array([0.96875, 0.96875, 1.     , 1.     , 1.     , 1.     ]),\n",
       " 'split1_train_score': array([0.97916667, 0.97916667, 1.        , 1.        , 1.        ,\n",
       "        1.        ]),\n",
       " 'split2_train_score': array([0.97916667, 0.97916667, 1.        , 1.        , 1.        ,\n",
       "        1.        ]),\n",
       " 'split3_train_score': array([0.96875, 0.96875, 1.     , 1.     , 1.     , 1.     ]),\n",
       " 'split4_train_score': array([0.97916667, 0.97916667, 1.        , 1.        , 1.        ,\n",
       "        1.        ]),\n",
       " 'mean_train_score': array([0.975, 0.975, 1.   , 1.   , 1.   , 1.   ]),\n",
       " 'std_train_score': array([0.0051031, 0.0051031, 0.       , 0.       , 0.       , 0.       ])}"
      ]
     },
     "execution_count": 29,
     "metadata": {},
     "output_type": "execute_result"
    }
   ],
   "source": [
    "g_dtc.cv_results_"
   ]
  },
  {
   "cell_type": "code",
   "execution_count": 31,
   "id": "1e629f4f-2c25-4b77-ac8c-eca54f028308",
   "metadata": {},
   "outputs": [
    {
     "data": {
      "text/html": [
       "<div>\n",
       "<style scoped>\n",
       "    .dataframe tbody tr th:only-of-type {\n",
       "        vertical-align: middle;\n",
       "    }\n",
       "\n",
       "    .dataframe tbody tr th {\n",
       "        vertical-align: top;\n",
       "    }\n",
       "\n",
       "    .dataframe thead th {\n",
       "        text-align: right;\n",
       "    }\n",
       "</style>\n",
       "<table border=\"1\" class=\"dataframe\">\n",
       "  <thead>\n",
       "    <tr style=\"text-align: right;\">\n",
       "      <th></th>\n",
       "      <th>mean_fit_time</th>\n",
       "      <th>std_fit_time</th>\n",
       "      <th>mean_score_time</th>\n",
       "      <th>std_score_time</th>\n",
       "      <th>param_max_depth</th>\n",
       "      <th>param_min_samples_split</th>\n",
       "      <th>params</th>\n",
       "      <th>split0_test_score</th>\n",
       "      <th>split1_test_score</th>\n",
       "      <th>split2_test_score</th>\n",
       "      <th>split3_test_score</th>\n",
       "      <th>split4_test_score</th>\n",
       "      <th>mean_test_score</th>\n",
       "      <th>std_test_score</th>\n",
       "      <th>rank_test_score</th>\n",
       "      <th>split0_train_score</th>\n",
       "      <th>split1_train_score</th>\n",
       "      <th>split2_train_score</th>\n",
       "      <th>split3_train_score</th>\n",
       "      <th>split4_train_score</th>\n",
       "      <th>mean_train_score</th>\n",
       "      <th>std_train_score</th>\n",
       "    </tr>\n",
       "  </thead>\n",
       "  <tbody>\n",
       "    <tr>\n",
       "      <th>0</th>\n",
       "      <td>0.001778</td>\n",
       "      <td>0.002394</td>\n",
       "      <td>0.001770</td>\n",
       "      <td>0.001996</td>\n",
       "      <td>2</td>\n",
       "      <td>6</td>\n",
       "      <td>{'max_depth': 2, 'min_samples_split': 6}</td>\n",
       "      <td>1.0</td>\n",
       "      <td>0.958333</td>\n",
       "      <td>0.958333</td>\n",
       "      <td>1.0</td>\n",
       "      <td>0.958333</td>\n",
       "      <td>0.975000</td>\n",
       "      <td>0.020412</td>\n",
       "      <td>5</td>\n",
       "      <td>0.96875</td>\n",
       "      <td>0.979167</td>\n",
       "      <td>0.979167</td>\n",
       "      <td>0.96875</td>\n",
       "      <td>0.979167</td>\n",
       "      <td>0.975</td>\n",
       "      <td>0.005103</td>\n",
       "    </tr>\n",
       "    <tr>\n",
       "      <th>1</th>\n",
       "      <td>0.000547</td>\n",
       "      <td>0.000049</td>\n",
       "      <td>0.000271</td>\n",
       "      <td>0.000017</td>\n",
       "      <td>2</td>\n",
       "      <td>7</td>\n",
       "      <td>{'max_depth': 2, 'min_samples_split': 7}</td>\n",
       "      <td>1.0</td>\n",
       "      <td>0.958333</td>\n",
       "      <td>0.958333</td>\n",
       "      <td>1.0</td>\n",
       "      <td>0.958333</td>\n",
       "      <td>0.975000</td>\n",
       "      <td>0.020412</td>\n",
       "      <td>5</td>\n",
       "      <td>0.96875</td>\n",
       "      <td>0.979167</td>\n",
       "      <td>0.979167</td>\n",
       "      <td>0.96875</td>\n",
       "      <td>0.979167</td>\n",
       "      <td>0.975</td>\n",
       "      <td>0.005103</td>\n",
       "    </tr>\n",
       "    <tr>\n",
       "      <th>2</th>\n",
       "      <td>0.000355</td>\n",
       "      <td>0.000078</td>\n",
       "      <td>0.000194</td>\n",
       "      <td>0.000030</td>\n",
       "      <td>3</td>\n",
       "      <td>6</td>\n",
       "      <td>{'max_depth': 3, 'min_samples_split': 6}</td>\n",
       "      <td>1.0</td>\n",
       "      <td>1.000000</td>\n",
       "      <td>0.958333</td>\n",
       "      <td>1.0</td>\n",
       "      <td>1.000000</td>\n",
       "      <td>0.991667</td>\n",
       "      <td>0.016667</td>\n",
       "      <td>1</td>\n",
       "      <td>1.00000</td>\n",
       "      <td>1.000000</td>\n",
       "      <td>1.000000</td>\n",
       "      <td>1.00000</td>\n",
       "      <td>1.000000</td>\n",
       "      <td>1.000</td>\n",
       "      <td>0.000000</td>\n",
       "    </tr>\n",
       "    <tr>\n",
       "      <th>3</th>\n",
       "      <td>0.000453</td>\n",
       "      <td>0.000382</td>\n",
       "      <td>0.000176</td>\n",
       "      <td>0.000051</td>\n",
       "      <td>3</td>\n",
       "      <td>7</td>\n",
       "      <td>{'max_depth': 3, 'min_samples_split': 7}</td>\n",
       "      <td>1.0</td>\n",
       "      <td>1.000000</td>\n",
       "      <td>0.958333</td>\n",
       "      <td>1.0</td>\n",
       "      <td>1.000000</td>\n",
       "      <td>0.991667</td>\n",
       "      <td>0.016667</td>\n",
       "      <td>1</td>\n",
       "      <td>1.00000</td>\n",
       "      <td>1.000000</td>\n",
       "      <td>1.000000</td>\n",
       "      <td>1.00000</td>\n",
       "      <td>1.000000</td>\n",
       "      <td>1.000</td>\n",
       "      <td>0.000000</td>\n",
       "    </tr>\n",
       "    <tr>\n",
       "      <th>4</th>\n",
       "      <td>0.000415</td>\n",
       "      <td>0.000023</td>\n",
       "      <td>0.000230</td>\n",
       "      <td>0.000044</td>\n",
       "      <td>4</td>\n",
       "      <td>6</td>\n",
       "      <td>{'max_depth': 4, 'min_samples_split': 6}</td>\n",
       "      <td>1.0</td>\n",
       "      <td>1.000000</td>\n",
       "      <td>0.958333</td>\n",
       "      <td>1.0</td>\n",
       "      <td>1.000000</td>\n",
       "      <td>0.991667</td>\n",
       "      <td>0.016667</td>\n",
       "      <td>1</td>\n",
       "      <td>1.00000</td>\n",
       "      <td>1.000000</td>\n",
       "      <td>1.000000</td>\n",
       "      <td>1.00000</td>\n",
       "      <td>1.000000</td>\n",
       "      <td>1.000</td>\n",
       "      <td>0.000000</td>\n",
       "    </tr>\n",
       "    <tr>\n",
       "      <th>5</th>\n",
       "      <td>0.000480</td>\n",
       "      <td>0.000115</td>\n",
       "      <td>0.000198</td>\n",
       "      <td>0.000010</td>\n",
       "      <td>4</td>\n",
       "      <td>7</td>\n",
       "      <td>{'max_depth': 4, 'min_samples_split': 7}</td>\n",
       "      <td>1.0</td>\n",
       "      <td>1.000000</td>\n",
       "      <td>0.958333</td>\n",
       "      <td>1.0</td>\n",
       "      <td>1.000000</td>\n",
       "      <td>0.991667</td>\n",
       "      <td>0.016667</td>\n",
       "      <td>1</td>\n",
       "      <td>1.00000</td>\n",
       "      <td>1.000000</td>\n",
       "      <td>1.000000</td>\n",
       "      <td>1.00000</td>\n",
       "      <td>1.000000</td>\n",
       "      <td>1.000</td>\n",
       "      <td>0.000000</td>\n",
       "    </tr>\n",
       "  </tbody>\n",
       "</table>\n",
       "</div>"
      ],
      "text/plain": [
       "   mean_fit_time  std_fit_time  ...  mean_train_score  std_train_score\n",
       "0       0.001778      0.002394  ...             0.975         0.005103\n",
       "1       0.000547      0.000049  ...             0.975         0.005103\n",
       "2       0.000355      0.000078  ...             1.000         0.000000\n",
       "3       0.000453      0.000382  ...             1.000         0.000000\n",
       "4       0.000415      0.000023  ...             1.000         0.000000\n",
       "5       0.000480      0.000115  ...             1.000         0.000000\n",
       "\n",
       "[6 rows x 22 columns]"
      ]
     },
     "execution_count": 31,
     "metadata": {},
     "output_type": "execute_result"
    }
   ],
   "source": [
    "result_df = pd.DataFrame(g_dtc.cv_results_)\n",
    "result_df"
   ]
  },
  {
   "cell_type": "code",
   "execution_count": 33,
   "id": "d9575f48-8b14-4486-bdfa-ff14724cd167",
   "metadata": {},
   "outputs": [
    {
     "name": "stdout",
     "output_type": "stream",
     "text": [
      "{'max_depth': 3, 'min_samples_split': 6}\n",
      "0.9916666666666668\n"
     ]
    }
   ],
   "source": [
    "print(g_dtc.best_params_, g_dtc.best_score_, sep=\"\\n\")"
   ]
  },
  {
   "cell_type": "code",
   "execution_count": 34,
   "id": "a813e341-e337-41bb-8f59-eb481acc0b41",
   "metadata": {},
   "outputs": [
    {
     "data": {
      "text/html": [
       "<style>#sk-container-id-2 {color: black;background-color: white;}#sk-container-id-2 pre{padding: 0;}#sk-container-id-2 div.sk-toggleable {background-color: white;}#sk-container-id-2 label.sk-toggleable__label {cursor: pointer;display: block;width: 100%;margin-bottom: 0;padding: 0.3em;box-sizing: border-box;text-align: center;}#sk-container-id-2 label.sk-toggleable__label-arrow:before {content: \"▸\";float: left;margin-right: 0.25em;color: #696969;}#sk-container-id-2 label.sk-toggleable__label-arrow:hover:before {color: black;}#sk-container-id-2 div.sk-estimator:hover label.sk-toggleable__label-arrow:before {color: black;}#sk-container-id-2 div.sk-toggleable__content {max-height: 0;max-width: 0;overflow: hidden;text-align: left;background-color: #f0f8ff;}#sk-container-id-2 div.sk-toggleable__content pre {margin: 0.2em;color: black;border-radius: 0.25em;background-color: #f0f8ff;}#sk-container-id-2 input.sk-toggleable__control:checked~div.sk-toggleable__content {max-height: 200px;max-width: 100%;overflow: auto;}#sk-container-id-2 input.sk-toggleable__control:checked~label.sk-toggleable__label-arrow:before {content: \"▾\";}#sk-container-id-2 div.sk-estimator input.sk-toggleable__control:checked~label.sk-toggleable__label {background-color: #d4ebff;}#sk-container-id-2 div.sk-label input.sk-toggleable__control:checked~label.sk-toggleable__label {background-color: #d4ebff;}#sk-container-id-2 input.sk-hidden--visually {border: 0;clip: rect(1px 1px 1px 1px);clip: rect(1px, 1px, 1px, 1px);height: 1px;margin: -1px;overflow: hidden;padding: 0;position: absolute;width: 1px;}#sk-container-id-2 div.sk-estimator {font-family: monospace;background-color: #f0f8ff;border: 1px dotted black;border-radius: 0.25em;box-sizing: border-box;margin-bottom: 0.5em;}#sk-container-id-2 div.sk-estimator:hover {background-color: #d4ebff;}#sk-container-id-2 div.sk-parallel-item::after {content: \"\";width: 100%;border-bottom: 1px solid gray;flex-grow: 1;}#sk-container-id-2 div.sk-label:hover label.sk-toggleable__label {background-color: #d4ebff;}#sk-container-id-2 div.sk-serial::before {content: \"\";position: absolute;border-left: 1px solid gray;box-sizing: border-box;top: 0;bottom: 0;left: 50%;z-index: 0;}#sk-container-id-2 div.sk-serial {display: flex;flex-direction: column;align-items: center;background-color: white;padding-right: 0.2em;padding-left: 0.2em;position: relative;}#sk-container-id-2 div.sk-item {position: relative;z-index: 1;}#sk-container-id-2 div.sk-parallel {display: flex;align-items: stretch;justify-content: center;background-color: white;position: relative;}#sk-container-id-2 div.sk-item::before, #sk-container-id-2 div.sk-parallel-item::before {content: \"\";position: absolute;border-left: 1px solid gray;box-sizing: border-box;top: 0;bottom: 0;left: 50%;z-index: -1;}#sk-container-id-2 div.sk-parallel-item {display: flex;flex-direction: column;z-index: 1;position: relative;background-color: white;}#sk-container-id-2 div.sk-parallel-item:first-child::after {align-self: flex-end;width: 50%;}#sk-container-id-2 div.sk-parallel-item:last-child::after {align-self: flex-start;width: 50%;}#sk-container-id-2 div.sk-parallel-item:only-child::after {width: 0;}#sk-container-id-2 div.sk-dashed-wrapped {border: 1px dashed gray;margin: 0 0.4em 0.5em 0.4em;box-sizing: border-box;padding-bottom: 0.4em;background-color: white;}#sk-container-id-2 div.sk-label label {font-family: monospace;font-weight: bold;display: inline-block;line-height: 1.2em;}#sk-container-id-2 div.sk-label-container {text-align: center;}#sk-container-id-2 div.sk-container {/* jupyter's `normalize.less` sets `[hidden] { display: none; }` but bootstrap.min.css set `[hidden] { display: none !important; }` so we also need the `!important` here to be able to override the default hidden behavior on the sphinx rendered scikit-learn.org. See: https://github.com/scikit-learn/scikit-learn/issues/21755 */display: inline-block !important;position: relative;}#sk-container-id-2 div.sk-text-repr-fallback {display: none;}</style><div id=\"sk-container-id-2\" class=\"sk-top-container\"><div class=\"sk-text-repr-fallback\"><pre>DecisionTreeClassifier(max_depth=3, min_samples_split=6)</pre><b>In a Jupyter environment, please rerun this cell to show the HTML representation or trust the notebook. <br />On GitHub, the HTML representation is unable to render, please try loading this page with nbviewer.org.</b></div><div class=\"sk-container\" hidden><div class=\"sk-item\"><div class=\"sk-estimator sk-toggleable\"><input class=\"sk-toggleable__control sk-hidden--visually\" id=\"sk-estimator-id-4\" type=\"checkbox\" checked><label for=\"sk-estimator-id-4\" class=\"sk-toggleable__label sk-toggleable__label-arrow\">DecisionTreeClassifier</label><div class=\"sk-toggleable__content\"><pre>DecisionTreeClassifier(max_depth=3, min_samples_split=6)</pre></div></div></div></div></div>"
      ],
      "text/plain": [
       "DecisionTreeClassifier(max_depth=3, min_samples_split=6)"
      ]
     },
     "execution_count": 34,
     "metadata": {},
     "output_type": "execute_result"
    }
   ],
   "source": [
    "g_dtc.best_estimator_"
   ]
  },
  {
   "cell_type": "code",
   "execution_count": 35,
   "id": "39a6833e-2f9e-4165-bbec-c66920db14cf",
   "metadata": {},
   "outputs": [
    {
     "data": {
      "text/plain": [
       "0.9"
      ]
     },
     "execution_count": 35,
     "metadata": {},
     "output_type": "execute_result"
    }
   ],
   "source": [
    "dtc = g_dtc.best_estimator_\n",
    "prediction = dtc.predict(X_test)\n",
    "accuracy_score(y_test, prediction)"
   ]
  },
  {
   "cell_type": "code",
   "execution_count": null,
   "id": "898792cf-0045-408a-a062-393f46eaed42",
   "metadata": {},
   "outputs": [],
   "source": []
  },
  {
   "cell_type": "code",
   "execution_count": null,
   "id": "d8515338-87b5-4f5b-ba83-0c6c29d27a76",
   "metadata": {},
   "outputs": [],
   "source": []
  }
 ],
 "metadata": {
  "kernelspec": {
   "display_name": "Python 3 (ipykernel)",
   "language": "python",
   "name": "python3"
  },
  "language_info": {
   "codemirror_mode": {
    "name": "ipython",
    "version": 3
   },
   "file_extension": ".py",
   "mimetype": "text/x-python",
   "name": "python",
   "nbconvert_exporter": "python",
   "pygments_lexer": "ipython3",
   "version": "3.11.8"
  }
 },
 "nbformat": 4,
 "nbformat_minor": 5
}
