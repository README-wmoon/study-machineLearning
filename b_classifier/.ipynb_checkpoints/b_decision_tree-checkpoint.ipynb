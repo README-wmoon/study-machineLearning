{
 "cells": [
  {
   "cell_type": "markdown",
   "id": "cf3c451e-5caa-43a0-8333-15707c2acb2d",
   "metadata": {},
   "source": [
    "#### 결정 트리 (Decision Tree)\n",
    "- 매우 쉽고 유연하게 적용될 수 있는 알고리즘으로서 데이터의 스케일링, 정규화 등의 데이터 전처리의 의존도가 매우 적다.\n",
    "- 학습을 통해 데이터에 있는 규칙을 자동으로 찾아내서 Tree 기반의 분류 규칙을 만든다.\n",
    "- 각 특성이 개별적으로 처리되어 데이터를 분할하는데 데이터 스케일의 영향을 받지 않으므로 결정트리에서는 정규화나 표준화같은 전처리 과정이 필요없다.\n",
    "- 영향을 가장 많이 미치는 feature를 찾아낼 수도 있다.\n",
    "- 예측 성능을 계속해서 향상시키면 복잡한 규칙 구조를 가지기 때문에 <sub>❈</sub>과적합(Overfitting)이 발생해서 예측 성능이 저하될 수도 있다.\n",
    "- 가장 상위 노드를 \"루트 노드\"라고 하며, 나머지 분기점을 \"서브 노드\", 결정된 분류값 노드를 \"리프 노드\"라고 한다.\n",
    "\n",
    "<img src=\"./images/decision_tree.png\" width=\"550\" style=\"margin: 20px 0 20px 20px\">\n",
    "\n",
    "- 복잡도를 감소시키는 것이 주목적이며, 정보의 복잡도를 불순도(Impurity)라고 한다.\n",
    "- 이를 수치화한 값으로 지니 계수(Gini Coeficient)가 있다.\n",
    "- 클래스가 섞이지 않고 분류가 잘 되었다면, 불순도 낮다.\n",
    "- 클래스가 많이 섞여 있고 분류가 잘 안되었다면, 불순도 높다.\n",
    "- 통계적 분산 정도를 정량화하여 표현한 값이고, 0과 1사이의 값을 가진다.\n",
    "- 지니 계수가 낮을 수록 분류가 잘 된 것이다.\n",
    "\n",
    "---\n",
    "<sub>❈ 과적합이란, 학습 데이터를 과하게 학습시켜서 실제 데이터에서는 오차가 오히려 증가하는 현상이다. </sub>\n",
    "\n",
    "<img src=\"./images/overfitting.png\" width=\"350\" style=\"margin: -10px\">"
   ]
  },
  {
   "cell_type": "markdown",
   "id": "b4e83a0a-a4ab-46bb-a1e3-f2f336931bc3",
   "metadata": {},
   "source": [
    "#### Graphviz\n",
    "- 결정트리 모델을 시각화할 수 있다."
   ]
  },
  {
   "cell_type": "code",
   "execution_count": 2,
   "id": "dd1687c5-03d1-4086-b85a-2a714216038e",
   "metadata": {},
   "outputs": [
    {
     "ename": "ModuleNotFoundError",
     "evalue": "No module named 'graphviz'",
     "output_type": "error",
     "traceback": [
      "\u001b[0;31m---------------------------------------------------------------------------\u001b[0m",
      "\u001b[0;31mModuleNotFoundError\u001b[0m                       Traceback (most recent call last)",
      "Cell \u001b[0;32mIn[2], line 1\u001b[0m\n\u001b[0;32m----> 1\u001b[0m \u001b[38;5;28;01mimport\u001b[39;00m \u001b[38;5;21;01mgraphviz\u001b[39;00m\n",
      "\u001b[0;31mModuleNotFoundError\u001b[0m: No module named 'graphviz'"
     ]
    }
   ],
   "source": [
    "import graphviz"
   ]
  },
  {
   "cell_type": "code",
   "execution_count": null,
   "id": "464f036b-9636-4ab2-b846-081a78af5d24",
   "metadata": {},
   "outputs": [],
   "source": []
  },
  {
   "cell_type": "code",
   "execution_count": null,
   "id": "16b03e8f-58d7-4a84-9565-14521cbd9efe",
   "metadata": {},
   "outputs": [],
   "source": []
  },
  {
   "cell_type": "code",
   "execution_count": null,
   "id": "782a0384-e966-41b9-9437-7bd84047e67e",
   "metadata": {},
   "outputs": [],
   "source": []
  },
  {
   "cell_type": "code",
   "execution_count": null,
   "id": "cbd7df8c-083f-4c7b-b401-f46f329c6574",
   "metadata": {},
   "outputs": [],
   "source": []
  },
  {
   "cell_type": "code",
   "execution_count": null,
   "id": "385093ad-5f8a-4242-8cf8-ed6052ee7e20",
   "metadata": {},
   "outputs": [],
   "source": []
  },
  {
   "cell_type": "code",
   "execution_count": null,
   "id": "6bdb9946-e21b-4429-bee9-e82308485802",
   "metadata": {},
   "outputs": [],
   "source": []
  },
  {
   "cell_type": "code",
   "execution_count": null,
   "id": "df0f9406-afab-483a-b25c-dac4f2931376",
   "metadata": {},
   "outputs": [],
   "source": []
  }
 ],
 "metadata": {
  "kernelspec": {
   "display_name": "Python 3 (ipykernel)",
   "language": "python",
   "name": "python3"
  },
  "language_info": {
   "codemirror_mode": {
    "name": "ipython",
    "version": 3
   },
   "file_extension": ".py",
   "mimetype": "text/x-python",
   "name": "python",
   "nbconvert_exporter": "python",
   "pygments_lexer": "ipython3",
   "version": "3.11.8"
  }
 },
 "nbformat": 4,
 "nbformat_minor": 5
}
