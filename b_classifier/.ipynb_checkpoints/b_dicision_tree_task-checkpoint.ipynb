{
 "cells": [
  {
   "cell_type": "markdown",
   "id": "921b3bd5-34b0-455b-829c-743dcbe63a58",
   "metadata": {},
   "source": [
    "### Decision Tree Task"
   ]
  },
  {
   "cell_type": "markdown",
   "id": "4b760a60-089e-4247-aaa4-36f87b7713f8",
   "metadata": {},
   "source": [
    "### 약물 A, B, C, X, Y\n",
    "##### 다중 분류(Multiclass Classification)\n",
    "- 의학 연구원으로서 동일한 질병을 앓고 있는 일련의 환자에 대한 데이터를 수집했다.\n",
    "- 치료 과정 동안 각 환자는 5가지 약물, 즉 약물 A, 약물 B, 약물 c, 약물 x 및 y 중 하나에 반응했다.\n",
    "-  미래에 동일한 질병을 앓는 환자에게 어떤 약물이 적합할 수 있는지 알아보기 위한 모델을 구축한다."
   ]
  },
  {
   "cell_type": "code",
   "execution_count": null,
   "id": "00815678-9e4b-4803-9529-f91fd4bf3f22",
   "metadata": {},
   "outputs": [],
   "source": [
    "import pandas as pd\n",
    "drug_df = pd.read_csv('./datasets/')"
   ]
  },
  {
   "cell_type": "code",
   "execution_count": null,
   "id": "930d92e8-7577-4e63-bd03-f74cb4d92f7d",
   "metadata": {},
   "outputs": [],
   "source": []
  },
  {
   "cell_type": "code",
   "execution_count": null,
   "id": "c85a3af2-d838-4926-8145-549869aacb7e",
   "metadata": {},
   "outputs": [],
   "source": []
  },
  {
   "cell_type": "code",
   "execution_count": null,
   "id": "e9f849fd-726d-4a6a-b607-01525bd94714",
   "metadata": {},
   "outputs": [],
   "source": []
  },
  {
   "cell_type": "code",
   "execution_count": null,
   "id": "e97a4fdf-156c-484c-a23a-d925ca251a31",
   "metadata": {},
   "outputs": [],
   "source": []
  },
  {
   "cell_type": "code",
   "execution_count": null,
   "id": "84e2688d-e2a9-4654-a951-56c6574e4eec",
   "metadata": {},
   "outputs": [],
   "source": []
  },
  {
   "cell_type": "code",
   "execution_count": null,
   "id": "07bf9d5c-f537-4597-a7f3-1aa199a03dbd",
   "metadata": {},
   "outputs": [],
   "source": []
  },
  {
   "cell_type": "code",
   "execution_count": null,
   "id": "609e399c-8c72-479e-b21f-d763da933788",
   "metadata": {},
   "outputs": [],
   "source": []
  },
  {
   "cell_type": "code",
   "execution_count": null,
   "id": "de2b02be-51cd-42d6-8cda-c6faf2b60ba4",
   "metadata": {},
   "outputs": [],
   "source": []
  }
 ],
 "metadata": {
  "kernelspec": {
   "display_name": "Python 3 (ipykernel)",
   "language": "python",
   "name": "python3"
  },
  "language_info": {
   "codemirror_mode": {
    "name": "ipython",
    "version": 3
   },
   "file_extension": ".py",
   "mimetype": "text/x-python",
   "name": "python",
   "nbconvert_exporter": "python",
   "pygments_lexer": "ipython3",
   "version": "3.11.8"
  }
 },
 "nbformat": 4,
 "nbformat_minor": 5
}
